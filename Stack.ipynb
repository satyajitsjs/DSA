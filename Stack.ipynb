{
 "cells": [
  {
   "cell_type": "code",
   "execution_count": 13,
   "id": "08e41ef9",
   "metadata": {},
   "outputs": [],
   "source": [
    "class Node:\n",
    "    def __init__(self,value):\n",
    "        self.data = value\n",
    "        self.next = None"
   ]
  },
  {
   "cell_type": "code",
   "execution_count": 98,
   "id": "21cfb356",
   "metadata": {},
   "outputs": [],
   "source": [
    "class Stack:\n",
    "    def __init__(self):\n",
    "        self.top = None\n",
    "        self.n = 0\n",
    "    \n",
    "    def isEmpty(self):\n",
    "        return self.top == None\n",
    "    \n",
    "    def push(self,value):\n",
    "        if value == None:\n",
    "            return \"Value Error\"\n",
    "        new_node = Node(value)\n",
    "        new_node.next = self.top\n",
    "        self.top = new_node\n",
    "        self.n += 1\n",
    "    \n",
    "    def peak(self):\n",
    "        if self.isEmpty() == True:\n",
    "            return \"Stack Empty\"\n",
    "        else:\n",
    "            return self.top.data\n",
    "    \n",
    "    def travers(self):\n",
    "        if self.top == None:\n",
    "            return \"Empty List\"\n",
    "        current = self.top\n",
    "        while current != None:\n",
    "            print(current.data)\n",
    "            current = current.next\n",
    "    \n",
    "    def pop(self):\n",
    "        if self.isEmpty() == True:\n",
    "            return \"Stack is empty\"\n",
    "        \n",
    "        self.top = self.top.next\n",
    "        self.n -= 1\n",
    "    \n",
    "    def size(self):\n",
    "        return self.n\n",
    "\n",
    "        "
   ]
  },
  {
   "cell_type": "code",
   "execution_count": 99,
   "id": "293777d2",
   "metadata": {},
   "outputs": [],
   "source": [
    "s = Stack()"
   ]
  },
  {
   "cell_type": "code",
   "execution_count": 100,
   "id": "83c11010",
   "metadata": {},
   "outputs": [
    {
     "data": {
      "text/plain": [
       "True"
      ]
     },
     "execution_count": 100,
     "metadata": {},
     "output_type": "execute_result"
    }
   ],
   "source": [
    "s.isEmpty()"
   ]
  },
  {
   "cell_type": "code",
   "execution_count": 101,
   "id": "a1af86a4",
   "metadata": {},
   "outputs": [],
   "source": [
    "s.push(1)"
   ]
  },
  {
   "cell_type": "code",
   "execution_count": 102,
   "id": "8c209b5c",
   "metadata": {},
   "outputs": [
    {
     "data": {
      "text/plain": [
       "False"
      ]
     },
     "execution_count": 102,
     "metadata": {},
     "output_type": "execute_result"
    }
   ],
   "source": [
    "s.isEmpty()"
   ]
  },
  {
   "cell_type": "code",
   "execution_count": 103,
   "id": "ec807d88",
   "metadata": {},
   "outputs": [],
   "source": [
    "s.push(2)\n",
    "s.push(3)\n",
    "s.push(4)\n",
    "s.push(5)"
   ]
  },
  {
   "cell_type": "code",
   "execution_count": 124,
   "id": "77155b30",
   "metadata": {},
   "outputs": [
    {
     "data": {
      "text/plain": [
       "'Empty List'"
      ]
     },
     "execution_count": 124,
     "metadata": {},
     "output_type": "execute_result"
    }
   ],
   "source": [
    "s.travers()"
   ]
  },
  {
   "cell_type": "code",
   "execution_count": 125,
   "id": "129d33a7",
   "metadata": {},
   "outputs": [
    {
     "data": {
      "text/plain": [
       "'Stack Empty'"
      ]
     },
     "execution_count": 125,
     "metadata": {},
     "output_type": "execute_result"
    }
   ],
   "source": [
    "s.peak()"
   ]
  },
  {
   "cell_type": "code",
   "execution_count": 126,
   "id": "6294369a",
   "metadata": {},
   "outputs": [
    {
     "data": {
      "text/plain": [
       "'Stack is empty'"
      ]
     },
     "execution_count": 126,
     "metadata": {},
     "output_type": "execute_result"
    }
   ],
   "source": [
    "s.pop()"
   ]
  },
  {
   "cell_type": "code",
   "execution_count": 127,
   "id": "6c69a993",
   "metadata": {},
   "outputs": [
    {
     "data": {
      "text/plain": [
       "0"
      ]
     },
     "execution_count": 127,
     "metadata": {},
     "output_type": "execute_result"
    }
   ],
   "source": [
    "s.size()"
   ]
  },
  {
   "cell_type": "code",
   "execution_count": null,
   "id": "678dd951",
   "metadata": {},
   "outputs": [],
   "source": []
  },
  {
   "cell_type": "code",
   "execution_count": null,
   "id": "d4350a05",
   "metadata": {},
   "outputs": [],
   "source": []
  }
 ],
 "metadata": {
  "kernelspec": {
   "display_name": "Python 3 (ipykernel)",
   "language": "python",
   "name": "python3"
  },
  "language_info": {
   "codemirror_mode": {
    "name": "ipython",
    "version": 3
   },
   "file_extension": ".py",
   "mimetype": "text/x-python",
   "name": "python",
   "nbconvert_exporter": "python",
   "pygments_lexer": "ipython3",
   "version": "3.10.9"
  }
 },
 "nbformat": 4,
 "nbformat_minor": 5
}
