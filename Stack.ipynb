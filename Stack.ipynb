{
 "cells": [
  {
   "cell_type": "code",
   "execution_count": 37,
   "id": "08e41ef9",
   "metadata": {},
   "outputs": [],
   "source": [
    "class Node:\n",
    "    def __init__(self,value):\n",
    "        self.data = value\n",
    "        self.next = None"
   ]
  },
  {
   "cell_type": "code",
   "execution_count": 38,
   "id": "21cfb356",
   "metadata": {},
   "outputs": [],
   "source": [
    "class Stack:\n",
    "    def __init__(self):\n",
    "        self.top = None\n",
    "        self.n = 0\n",
    "    \n",
    "    def isEmpty(self):\n",
    "        return self.top == None\n",
    "    \n",
    "    def push(self,value):\n",
    "        if value == None:\n",
    "            return \"Value Error\"\n",
    "        new_node = Node(value)\n",
    "        new_node.next = self.top\n",
    "        self.top = new_node\n",
    "        self.n += 1\n",
    "    \n",
    "    def peak(self):\n",
    "        if self.isEmpty() == True:\n",
    "            return \"Stack Empty\"\n",
    "        else:\n",
    "            return self.top.data\n",
    "    \n",
    "    def travers(self):\n",
    "        if self.top == None:\n",
    "            return \"Empty List\"\n",
    "        current = self.top\n",
    "        while current != None:\n",
    "            print(current.data)\n",
    "            current = current.next\n",
    "    \n",
    "    def pop(self):\n",
    "        if self.isEmpty() == True:\n",
    "            return \"Stack is empty\"\n",
    "\n",
    "        current = self.top\n",
    "        self.top = self.top.next\n",
    "        self.n -= 1\n",
    "        return current.data\n",
    "    \n",
    "    def size(self):\n",
    "        return self.n\n",
    "    \n",
    "        "
   ]
  },
  {
   "cell_type": "code",
   "execution_count": 39,
   "id": "293777d2",
   "metadata": {},
   "outputs": [],
   "source": [
    "s = Stack()"
   ]
  },
  {
   "cell_type": "code",
   "execution_count": 40,
   "id": "83c11010",
   "metadata": {},
   "outputs": [
    {
     "data": {
      "text/plain": [
       "True"
      ]
     },
     "execution_count": 40,
     "metadata": {},
     "output_type": "execute_result"
    }
   ],
   "source": [
    "s.isEmpty()"
   ]
  },
  {
   "cell_type": "code",
   "execution_count": 41,
   "id": "a1af86a4",
   "metadata": {},
   "outputs": [],
   "source": [
    "s.push(1)"
   ]
  },
  {
   "cell_type": "code",
   "execution_count": 42,
   "id": "8c209b5c",
   "metadata": {},
   "outputs": [
    {
     "data": {
      "text/plain": [
       "False"
      ]
     },
     "execution_count": 42,
     "metadata": {},
     "output_type": "execute_result"
    }
   ],
   "source": [
    "s.isEmpty()"
   ]
  },
  {
   "cell_type": "code",
   "execution_count": 43,
   "id": "ec807d88",
   "metadata": {},
   "outputs": [],
   "source": [
    "s.push(2)\n",
    "s.push(3)\n",
    "s.push(4)\n",
    "s.push(5)"
   ]
  },
  {
   "cell_type": "code",
   "execution_count": 44,
   "id": "77155b30",
   "metadata": {},
   "outputs": [
    {
     "name": "stdout",
     "output_type": "stream",
     "text": [
      "5\n",
      "4\n",
      "3\n",
      "2\n",
      "1\n"
     ]
    }
   ],
   "source": [
    "s.travers()"
   ]
  },
  {
   "cell_type": "code",
   "execution_count": 45,
   "id": "129d33a7",
   "metadata": {},
   "outputs": [
    {
     "data": {
      "text/plain": [
       "5"
      ]
     },
     "execution_count": 45,
     "metadata": {},
     "output_type": "execute_result"
    }
   ],
   "source": [
    "s.peak()"
   ]
  },
  {
   "cell_type": "code",
   "execution_count": 46,
   "id": "6294369a",
   "metadata": {},
   "outputs": [
    {
     "data": {
      "text/plain": [
       "5"
      ]
     },
     "execution_count": 46,
     "metadata": {},
     "output_type": "execute_result"
    }
   ],
   "source": [
    "s.pop()"
   ]
  },
  {
   "cell_type": "code",
   "execution_count": 47,
   "id": "6c69a993",
   "metadata": {},
   "outputs": [
    {
     "data": {
      "text/plain": [
       "4"
      ]
     },
     "execution_count": 47,
     "metadata": {},
     "output_type": "execute_result"
    }
   ],
   "source": [
    "s.size()"
   ]
  },
  {
   "cell_type": "code",
   "execution_count": 48,
   "id": "678dd951",
   "metadata": {},
   "outputs": [],
   "source": [
    "# Reverse String\n",
    "def revers_sting(text):\n",
    "    s = Stack()\n",
    "    for i in text:\n",
    "        s.push(i)\n",
    "\n",
    "    result = \"\"\n",
    "    while not s.isEmpty():\n",
    "        result += s.pop()\n",
    "        pass\n",
    "\n",
    "    return result"
   ]
  },
  {
   "cell_type": "code",
   "execution_count": 49,
   "id": "d4350a05",
   "metadata": {},
   "outputs": [
    {
     "data": {
      "text/plain": [
       "'olleH'"
      ]
     },
     "execution_count": 49,
     "metadata": {},
     "output_type": "execute_result"
    }
   ],
   "source": [
    "revers_sting(\"Hello\")"
   ]
  },
  {
   "cell_type": "code",
   "execution_count": 50,
   "id": "b257d4a3",
   "metadata": {},
   "outputs": [],
   "source": [
    "# Text Editor\n",
    "def text_editor(string,parten):\n",
    "    u = Stack()\n",
    "    r = Stack()\n",
    "    \n",
    "    for i in string:\n",
    "        u.push(i)\n",
    "    \n",
    "    for i in parten:\n",
    "        if i.lower() == \"u\":\n",
    "            data = u.pop()\n",
    "            r.push(data)\n",
    "        else:\n",
    "            data = r.pop()\n",
    "            u.push(data)\n",
    "    \n",
    "    result = \"\"\n",
    "    while not u.isEmpty():\n",
    "        result = u.pop() + result\n",
    "\n",
    "    return result\n"
   ]
  },
  {
   "cell_type": "code",
   "execution_count": 51,
   "id": "dad0ef19",
   "metadata": {},
   "outputs": [
    {
     "data": {
      "text/plain": [
       "'Hel'"
      ]
     },
     "execution_count": 51,
     "metadata": {},
     "output_type": "execute_result"
    }
   ],
   "source": [
    "text_editor(\"Hello\",\"uuuurr\")"
   ]
  },
  {
   "cell_type": "code",
   "execution_count": 52,
   "id": "a18ba41d",
   "metadata": {},
   "outputs": [],
   "source": [
    "L = [\n",
    "    [1,0,1,1],\n",
    "    [0,0,1,1],\n",
    "    [0,0,0,0],\n",
    "    [0,0,1,1],\n",
    "]"
   ]
  },
  {
   "cell_type": "code",
   "execution_count": 53,
   "id": "6ace793f",
   "metadata": {},
   "outputs": [],
   "source": [
    "def find_celeb(L):\n",
    "    s = Stack()\n",
    "    \n",
    "    for i in range(len(L)):\n",
    "        s.push(i)\n",
    "    \n",
    "    while s.size() >= 2:\n",
    "        \n",
    "        i = s.pop()\n",
    "        j = s.pop()\n",
    "        \n",
    "        \n",
    "        if L[i][j] == 0:\n",
    "            s.push(i)\n",
    "        else:\n",
    "            s.push(j)\n",
    "    \n",
    "    celeb = s.pop()\n",
    "    \n",
    "    for i in range(len(L)):\n",
    "        if i != celeb:\n",
    "            if L[i][celeb] == 0 or L[celeb][i] == 1:\n",
    "                return \"No One is Celebraty Here\"\n",
    "    \n",
    "    return f\"{celeb} is the Celebraty\"\n",
    "            \n",
    "            \n",
    "    "
   ]
  },
  {
   "cell_type": "code",
   "execution_count": 54,
   "id": "c2547e4c",
   "metadata": {},
   "outputs": [
    {
     "data": {
      "text/plain": [
       "'2 is the Celebraty'"
      ]
     },
     "execution_count": 54,
     "metadata": {},
     "output_type": "execute_result"
    }
   ],
   "source": [
    "find_celeb(L)"
   ]
  },
  {
   "cell_type": "code",
   "execution_count": null,
   "id": "43317324",
   "metadata": {},
   "outputs": [],
   "source": []
  }
 ],
 "metadata": {
  "kernelspec": {
   "display_name": "Python 3 (ipykernel)",
   "language": "python",
   "name": "python3"
  },
  "language_info": {
   "codemirror_mode": {
    "name": "ipython",
    "version": 3
   },
   "file_extension": ".py",
   "mimetype": "text/x-python",
   "name": "python",
   "nbconvert_exporter": "python",
   "pygments_lexer": "ipython3",
   "version": "3.10.12"
  }
 },
 "nbformat": 4,
 "nbformat_minor": 5
}
