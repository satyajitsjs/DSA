{
 "cells": [
  {
   "cell_type": "code",
   "execution_count": 9,
   "metadata": {},
   "outputs": [],
   "source": [
    "class Dictionary:\n",
    "\n",
    "    def __init__(self , size):\n",
    "        self.size = size\n",
    "        self.slots = [None]* self.size\n",
    "        self.data = [None]* self.size\n",
    "\n",
    "    def put(self,key,value):\n",
    "        hash_value = self.hash_function(key)\n",
    "        \n",
    "        if self.slots[hash_value] == None:\n",
    "            self.slots[hash_value] = key\n",
    "            self.data[hash_value] = value\n",
    "        else:\n",
    "            if self.slots[hash_value] == key:\n",
    "                self.data[hash_value] = value\n",
    "            else:\n",
    "                new_hash_value = self.rehash(hash_value)\n",
    "                i = 0\n",
    "                while self.slots[new_hash_value] != None and self.slots[new_hash_value] != key and i <= self.size:\n",
    "                    new_hash_value = self.rehash(new_hash_value)\n",
    "                    i+=1\n",
    "                \n",
    "                if self.slots[new_hash_value] == None:\n",
    "                    self.slots[new_hash_value] = key\n",
    "                    self.data[new_hash_value] = value\n",
    "                else:\n",
    "                    self.data[new_hash_value] = value\n",
    "    \n",
    "    def __getitem__(self,key):\n",
    "        start_position = self.hash_function(key)\n",
    "        current_position = start_position\n",
    "\n",
    "        while self.slots[current_position] != None:\n",
    "            if self.slots[current_position] == key:\n",
    "                return self.data[current_position]\n",
    "            \n",
    "            current_position = self.rehash(current_position)\n",
    "\n",
    "            if current_position == start_position:\n",
    "                return \"Itme Not Found All CHecked\"\n",
    "            \n",
    "        return \"Not FOund\"\n",
    "\n",
    "\n",
    "    \n",
    "    def __setitem__(self,key,value):\n",
    "        self.put(key,value)\n",
    "\n",
    "    \n",
    "    def __str__(self):\n",
    "        \n",
    "        for i in range(self.size):\n",
    "            if self.slots[i] != None:\n",
    "                print(self.slots[i] , \":\" , self.data[i],end=\" \")\n",
    "        \n",
    "        return \"\"\n",
    "    \n",
    "\n",
    "    def hash_function(self,key):\n",
    "        return abs(hash(key)) % self.size\n",
    "    \n",
    "    def rehash(self,old_hash):\n",
    "        return (old_hash+1) % self.size"
   ]
  },
  {
   "cell_type": "code",
   "execution_count": 10,
   "metadata": {},
   "outputs": [],
   "source": [
    "D = Dictionary(3)"
   ]
  },
  {
   "cell_type": "code",
   "execution_count": 18,
   "metadata": {},
   "outputs": [
    {
     "name": "stdout",
     "output_type": "stream",
     "text": [
      "['python', 'java', 'go']\n",
      "[200, 200, 200]\n"
     ]
    }
   ],
   "source": [
    "print(D.slots)\n",
    "print(D.data)"
   ]
  },
  {
   "cell_type": "code",
   "execution_count": 12,
   "metadata": {},
   "outputs": [],
   "source": [
    "D[\"python\"] = 200"
   ]
  },
  {
   "cell_type": "code",
   "execution_count": 13,
   "metadata": {},
   "outputs": [],
   "source": [
    "D[\"java\"] = 200\n",
    "D[\"go\"] = 200"
   ]
  },
  {
   "cell_type": "code",
   "execution_count": 14,
   "metadata": {},
   "outputs": [],
   "source": [
    "D[\"php\"] = 200\n"
   ]
  },
  {
   "cell_type": "code",
   "execution_count": 15,
   "metadata": {},
   "outputs": [
    {
     "data": {
      "text/plain": [
       "'Itme Not Found All CHecked'"
      ]
     },
     "execution_count": 15,
     "metadata": {},
     "output_type": "execute_result"
    }
   ],
   "source": [
    "D[\"php\"]"
   ]
  },
  {
   "cell_type": "code",
   "execution_count": 17,
   "metadata": {},
   "outputs": [
    {
     "name": "stdout",
     "output_type": "stream",
     "text": [
      "python : 200 java : 200 go : 200 \n"
     ]
    }
   ],
   "source": [
    "print(D)"
   ]
  },
  {
   "cell_type": "code",
   "execution_count": null,
   "metadata": {},
   "outputs": [],
   "source": []
  }
 ],
 "metadata": {
  "kernelspec": {
   "display_name": "Python 3",
   "language": "python",
   "name": "python3"
  },
  "language_info": {
   "codemirror_mode": {
    "name": "ipython",
    "version": 3
   },
   "file_extension": ".py",
   "mimetype": "text/x-python",
   "name": "python",
   "nbconvert_exporter": "python",
   "pygments_lexer": "ipython3",
   "version": "3.10.12"
  }
 },
 "nbformat": 4,
 "nbformat_minor": 2
}
