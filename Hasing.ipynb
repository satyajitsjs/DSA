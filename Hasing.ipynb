{
 "cells": [
  {
   "cell_type": "code",
   "execution_count": 35,
   "metadata": {},
   "outputs": [],
   "source": [
    "class Dictionary:\n",
    "\n",
    "    def __init__(self , size):\n",
    "        self.size = size\n",
    "        self.slots = [None]* self.size\n",
    "        self.data = [None]* self.size\n",
    "\n",
    "    def put(self,key,value):\n",
    "        hash_value = self.hash_function(key)\n",
    "        \n",
    "        if self.slots[hash_value] == None:\n",
    "            self.slots[hash_value] = key\n",
    "            self.data[hash_value] = value\n",
    "        else:\n",
    "            if self.slots[hash_value] == key:\n",
    "                self.data[hash_value] = value\n",
    "            else:\n",
    "                new_hash_value = self.rehash(hash_value)\n",
    "                i = 0\n",
    "                while self.slots[new_hash_value] != None and self.slots[new_hash_value] != key and i <= self.size:\n",
    "                    new_hash_value = self.rehash(new_hash_value)\n",
    "                    i+=1\n",
    "                \n",
    "                if self.slots[new_hash_value] == None:\n",
    "                    self.slots[new_hash_value] = key\n",
    "                    self.data[new_hash_value] = value\n",
    "                else:\n",
    "                    self.data[new_hash_value] = value\n",
    "    \n",
    "    def __getitem__(self,key):\n",
    "        start_position = self.hash_function(key)\n",
    "        current_position = start_position\n",
    "\n",
    "        while self.slots[current_position] != None:\n",
    "            if self.slots[current_position] == key:\n",
    "                return self.data[current_position]\n",
    "            \n",
    "            current_position = self.rehash(current_position)\n",
    "\n",
    "            if current_position == start_position:\n",
    "                return \"Not Found\"\n",
    "            \n",
    "        return \"Not FOund\"\n",
    "\n",
    "\n",
    "    \n",
    "    def __setitem__(self,key,value):\n",
    "        self.put(key,value)\n",
    "    \n",
    "\n",
    "    def hash_function(self,key):\n",
    "        return abs(hash(key)) % self.size\n",
    "    \n",
    "    def rehash(self,old_hash):\n",
    "        return (old_hash+1) % self.size"
   ]
  },
  {
   "cell_type": "code",
   "execution_count": 36,
   "metadata": {},
   "outputs": [],
   "source": [
    "D = Dictionary(3)"
   ]
  },
  {
   "cell_type": "code",
   "execution_count": 41,
   "metadata": {},
   "outputs": [
    {
     "name": "stdout",
     "output_type": "stream",
     "text": [
      "['python', 'go', 'java']\n",
      "[200, 200, 200]\n"
     ]
    }
   ],
   "source": [
    "print(D.slots)\n",
    "print(D.data)"
   ]
  },
  {
   "cell_type": "code",
   "execution_count": 38,
   "metadata": {},
   "outputs": [],
   "source": [
    "D[\"python\"] = 200"
   ]
  },
  {
   "cell_type": "code",
   "execution_count": 39,
   "metadata": {},
   "outputs": [],
   "source": [
    "D[\"java\"] = 200\n",
    "D[\"go\"] = 200"
   ]
  },
  {
   "cell_type": "code",
   "execution_count": 40,
   "metadata": {},
   "outputs": [],
   "source": [
    "D[\"php\"] = 200\n"
   ]
  },
  {
   "cell_type": "code",
   "execution_count": 43,
   "metadata": {},
   "outputs": [
    {
     "data": {
      "text/plain": [
       "'Not Found'"
      ]
     },
     "execution_count": 43,
     "metadata": {},
     "output_type": "execute_result"
    }
   ],
   "source": [
    "D[\"php\"]"
   ]
  }
 ],
 "metadata": {
  "kernelspec": {
   "display_name": "Python 3",
   "language": "python",
   "name": "python3"
  },
  "language_info": {
   "codemirror_mode": {
    "name": "ipython",
    "version": 3
   },
   "file_extension": ".py",
   "mimetype": "text/x-python",
   "name": "python",
   "nbconvert_exporter": "python",
   "pygments_lexer": "ipython3",
   "version": "3.10.12"
  }
 },
 "nbformat": 4,
 "nbformat_minor": 2
}
