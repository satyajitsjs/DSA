{
 "cells": [
  {
   "cell_type": "code",
   "execution_count": 15,
   "id": "274cccc8",
   "metadata": {},
   "outputs": [],
   "source": [
    "class Node:\n",
    "    def __init__(self,value):\n",
    "        self.value = value\n",
    "        self.next = None"
   ]
  },
  {
   "cell_type": "code",
   "execution_count": 16,
   "id": "a3539e6d",
   "metadata": {},
   "outputs": [],
   "source": [
    "a = Node(1)\n",
    "b = Node(2)\n",
    "c = Node(3)"
   ]
  },
  {
   "cell_type": "code",
   "execution_count": 17,
   "id": "afb35db2",
   "metadata": {},
   "outputs": [],
   "source": [
    "a.next = b\n",
    "b.next = c"
   ]
  },
  {
   "cell_type": "code",
   "execution_count": 1,
   "id": "e5b5e65b",
   "metadata": {},
   "outputs": [],
   "source": [
    "class Node:\n",
    "    def __init__(self,value):\n",
    "        self.value = value\n",
    "        self.next = None"
   ]
  },
  {
   "cell_type": "code",
   "execution_count": 90,
   "id": "f4bbbf39",
   "metadata": {},
   "outputs": [],
   "source": [
    "class LinkedList:\n",
    "    \n",
    "    def __init__(self):\n",
    "        self.head = None\n",
    "        self.n = 0\n",
    "    \n",
    "    def __len__(self):\n",
    "        return self.n\n",
    "\n",
    "    def insert_head(self,value):\n",
    "        new_node = Node(value)\n",
    "        new_node.next = self.head\n",
    "        self.head = new_node\n",
    "        self.n += 1\n",
    "    \n",
    "    def __str__(self):\n",
    "        current = self.head\n",
    "        data = \"\"\n",
    "        while current != None:\n",
    "            data += f\"{current.value} -> \"\n",
    "            current = current.next\n",
    "        data = data[:-4]\n",
    "        return data\n",
    "    \n",
    "    def append(self,value):\n",
    "        new_node = Node(value)\n",
    "        \n",
    "        if self.head == None:\n",
    "            self.head = new_node\n",
    "            self.n += 1\n",
    "            return\n",
    "        \n",
    "        current = self.head\n",
    "        \n",
    "        while current.next != None:\n",
    "            current = current.next\n",
    "        \n",
    "        current.next = new_node\n",
    "        self.n+=1\n",
    "    \n",
    "    \n",
    "    def insert_after(self,item,value):\n",
    "        new_node = Node(value)\n",
    "        current = self.head\n",
    "        while current != None:\n",
    "            if current.value == item:\n",
    "                break\n",
    "            current = current.next\n",
    "        \n",
    "        if current!=None:\n",
    "            new_node.next = current.next\n",
    "            current.next = new_node\n",
    "            self.n += 1\n",
    "        else:\n",
    "            return \"Item Not Found !\"\n",
    "    \n",
    "    def clear(self):\n",
    "        self.head = None\n",
    "        self.n = 0\n",
    "    \n",
    "    def delete_head(self):\n",
    "        if self.n == 0:\n",
    "            return \"List is already Empty\"\n",
    "        self.head = self.head.next\n",
    "        self.n -= 1\n",
    "    \n",
    "    def pop(self):\n",
    "        current = self.head\n",
    "        \n",
    "        if self.head == None:\n",
    "            return  \"Empty Linked List !\"\n",
    "        \n",
    "        if current.next == None:\n",
    "            return self.delete_head()\n",
    "            \n",
    "        \n",
    "        while current.next.next != None:\n",
    "            current = current.next\n",
    "        \n",
    "        current.next = None\n",
    "        self.n -= 1\n",
    "    \n",
    "    def remove(self,value):\n",
    "        current = self.head\n",
    "        \n",
    "        if current == None:\n",
    "            return \"Empty List!!!!\"\n",
    "        \n",
    "        if current.value == value:\n",
    "            return self.delete_head()\n",
    "        \n",
    "        while current.next != None:\n",
    "            if current.next.value == value:\n",
    "                break\n",
    "            current = current.next\n",
    "        \n",
    "        if current.next == None:\n",
    "            return \"Item Not Found !!!!\"\n",
    "        else:\n",
    "            current.next = current.next.next\n",
    "            self.n -= 1\n",
    "            \n",
    "    def search(self,item):\n",
    "        current = self.head\n",
    "        pos = 0\n",
    "        \n",
    "        while current != None:\n",
    "            if current.value == item:\n",
    "                return pos\n",
    "            pos += 1\n",
    "            current = current.next\n",
    "        return \"Item Not Found !!!!\"\n",
    "        \n",
    "    def __getitem__(self,index):\n",
    "        current = self.head\n",
    "        pos = 0\n",
    "        \n",
    "        while current != None:\n",
    "            if pos == index:\n",
    "                return current.value\n",
    "            pos += 1\n",
    "            current = current.next\n",
    "        \n",
    "        return \"Index Error\"\n",
    "    \n",
    "    def del_index(self,index):\n",
    "        item = self.__getitem__(index)\n",
    "        return self.remove(item)\n",
    "    \n",
    "    def fun(self,v):\n",
    "        if v == None:\n",
    "            return\n",
    "        if v.next.next != None:\n",
    "            print(v.value,\" \",end=\"\")\n",
    "            self.fun(v.next)\n",
    "        print(v.value,\" \",end=\"\")\n",
    "        \n",
    "        "
   ]
  },
  {
   "cell_type": "code",
   "execution_count": 91,
   "id": "fd50e77d",
   "metadata": {},
   "outputs": [],
   "source": [
    "l = LinkedList()"
   ]
  },
  {
   "cell_type": "code",
   "execution_count": 92,
   "id": "15cf5683",
   "metadata": {},
   "outputs": [],
   "source": [
    "l.insert_head(1)\n",
    "l.insert_head(2)\n",
    "l.insert_head(3)\n",
    "l.insert_head(4)"
   ]
  },
  {
   "cell_type": "code",
   "execution_count": 93,
   "id": "81e76128",
   "metadata": {},
   "outputs": [
    {
     "name": "stdout",
     "output_type": "stream",
     "text": [
      "4 -> 3 -> 2 -> 1\n"
     ]
    }
   ],
   "source": [
    "print(l)"
   ]
  },
  {
   "cell_type": "code",
   "execution_count": 94,
   "id": "2d4c081e",
   "metadata": {},
   "outputs": [
    {
     "data": {
      "text/plain": [
       "4"
      ]
     },
     "execution_count": 94,
     "metadata": {},
     "output_type": "execute_result"
    }
   ],
   "source": [
    "len(l)"
   ]
  },
  {
   "cell_type": "code",
   "execution_count": 97,
   "id": "f7355018",
   "metadata": {},
   "outputs": [
    {
     "name": "stdout",
     "output_type": "stream",
     "text": [
      "<__main__.Node object at 0x000002C8794E4190>\n",
      "4  "
     ]
    },
    {
     "ename": "NameError",
     "evalue": "name 'fun' is not defined",
     "output_type": "error",
     "traceback": [
      "\u001b[1;31m---------------------------------------------------------------------------\u001b[0m",
      "\u001b[1;31mNameError\u001b[0m                                 Traceback (most recent call last)",
      "Cell \u001b[1;32mIn[97], line 3\u001b[0m\n\u001b[0;32m      1\u001b[0m a \u001b[38;5;241m=\u001b[39m l\u001b[38;5;241m.\u001b[39mhead\n\u001b[0;32m      2\u001b[0m \u001b[38;5;28mprint\u001b[39m(a)\n\u001b[1;32m----> 3\u001b[0m \u001b[43ml\u001b[49m\u001b[38;5;241;43m.\u001b[39;49m\u001b[43mfun\u001b[49m\u001b[43m(\u001b[49m\u001b[43ma\u001b[49m\u001b[43m)\u001b[49m\n",
      "Cell \u001b[1;32mIn[90], line 135\u001b[0m, in \u001b[0;36mLinkedList.fun\u001b[1;34m(self, v)\u001b[0m\n\u001b[0;32m    133\u001b[0m \u001b[38;5;28;01mif\u001b[39;00m v\u001b[38;5;241m.\u001b[39mnext\u001b[38;5;241m.\u001b[39mnext \u001b[38;5;241m!=\u001b[39m \u001b[38;5;28;01mNone\u001b[39;00m:\n\u001b[0;32m    134\u001b[0m     \u001b[38;5;28mprint\u001b[39m(v\u001b[38;5;241m.\u001b[39mvalue,\u001b[38;5;124m\"\u001b[39m\u001b[38;5;124m \u001b[39m\u001b[38;5;124m\"\u001b[39m,end\u001b[38;5;241m=\u001b[39m\u001b[38;5;124m\"\u001b[39m\u001b[38;5;124m\"\u001b[39m)\n\u001b[1;32m--> 135\u001b[0m     \u001b[43mfun\u001b[49m(v\u001b[38;5;241m.\u001b[39mnext)\n\u001b[0;32m    136\u001b[0m \u001b[38;5;28mprint\u001b[39m(v\u001b[38;5;241m.\u001b[39mvalue,\u001b[38;5;124m\"\u001b[39m\u001b[38;5;124m \u001b[39m\u001b[38;5;124m\"\u001b[39m,end\u001b[38;5;241m=\u001b[39m\u001b[38;5;124m\"\u001b[39m\u001b[38;5;124m\"\u001b[39m)\n",
      "\u001b[1;31mNameError\u001b[0m: name 'fun' is not defined"
     ]
    }
   ],
   "source": [
    "a = l.head\n",
    "print(a)\n",
    "l.fun(a)"
   ]
  },
  {
   "cell_type": "code",
   "execution_count": null,
   "id": "97a08627",
   "metadata": {},
   "outputs": [],
   "source": []
  }
 ],
 "metadata": {
  "kernelspec": {
   "display_name": "Python 3 (ipykernel)",
   "language": "python",
   "name": "python3"
  },
  "language_info": {
   "codemirror_mode": {
    "name": "ipython",
    "version": 3
   },
   "file_extension": ".py",
   "mimetype": "text/x-python",
   "name": "python",
   "nbconvert_exporter": "python",
   "pygments_lexer": "ipython3",
   "version": "3.10.9"
  }
 },
 "nbformat": 4,
 "nbformat_minor": 5
}
