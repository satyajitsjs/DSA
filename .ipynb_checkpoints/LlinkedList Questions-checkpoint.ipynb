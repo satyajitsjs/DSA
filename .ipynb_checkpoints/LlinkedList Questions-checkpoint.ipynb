{
 "cells": [
  {
   "cell_type": "code",
   "execution_count": 48,
   "id": "cea155aa",
   "metadata": {},
   "outputs": [],
   "source": [
    "class Node:\n",
    "    def __init__(self,value):\n",
    "        self.data = value\n",
    "        self.next = None\n",
    "\n",
    "# What will be the output\n",
    "def fun(head):\n",
    "    if head == None:\n",
    "        return\n",
    "    if head.next.next != None:\n",
    "        print(head.data,\" \",end=\"\")\n",
    "        fun(head.next)\n",
    "    print(head.data,\" \",end=\"\")\n",
    "    "
   ]
  },
  {
   "cell_type": "code",
   "execution_count": 49,
   "id": "eaa7e36f",
   "metadata": {},
   "outputs": [],
   "source": [
    "a = Node(1)\n",
    "b = Node(2)\n",
    "c = Node(3)\n",
    "d = Node(4)"
   ]
  },
  {
   "cell_type": "code",
   "execution_count": 50,
   "id": "17660094",
   "metadata": {},
   "outputs": [],
   "source": [
    "a.next = b\n",
    "b.next = c\n",
    "c.next = d"
   ]
  },
  {
   "cell_type": "code",
   "execution_count": 51,
   "id": "a90b607b",
   "metadata": {},
   "outputs": [
    {
     "name": "stdout",
     "output_type": "stream",
     "text": [
      "1  2  3  2  1  "
     ]
    }
   ],
   "source": [
    "fun(a)"
   ]
  },
  {
   "cell_type": "code",
   "execution_count": 92,
   "id": "b24c6da3",
   "metadata": {},
   "outputs": [],
   "source": [
    "class Node:\n",
    "    def __init__(self,value):\n",
    "        self.value = value\n",
    "        self.next = None"
   ]
  },
  {
   "cell_type": "code",
   "execution_count": 110,
   "id": "8a782d75",
   "metadata": {},
   "outputs": [],
   "source": [
    "class LinkedList:\n",
    "    \n",
    "    def __init__(self):\n",
    "        self.head = None\n",
    "        self.n = 0\n",
    "    \n",
    "    def __len__(self):\n",
    "        return self.n\n",
    "    \n",
    "    def add(self,value):\n",
    "        new_node = Node(value)\n",
    "        \n",
    "        if self.head == None:\n",
    "            self.head = new_node\n",
    "            self.n += 1\n",
    "            return\n",
    "        \n",
    "        current = self.head\n",
    "        \n",
    "        while current.next != None:\n",
    "            current = current.next\n",
    "        \n",
    "        current.next = new_node\n",
    "        self.n+=1\n",
    "\n",
    "    \n",
    "    def __str__(self):\n",
    "        current = self.head\n",
    "        data = \"\"\n",
    "        while current != None:\n",
    "            data += f\"{current.value} -> \"\n",
    "            current = current.next\n",
    "        data = data[:-4]\n",
    "        return data\n",
    "    \n",
    "#     Replace the max number with the newvalue+\n",
    "    def replace_max(self,value):\n",
    "        current = self.head\n",
    "        maxx = current\n",
    "        while current != None:\n",
    "            if maxx.value <= current.value:\n",
    "                maxx = current\n",
    "            current = current.next\n",
    "        maxx.value = value\n",
    "        \n",
    "        return maxx.value\n",
    "    \n",
    "    \n",
    "#   Add The value of odd nodes  \n",
    "    def add_odd_node(self):\n",
    "        current = self.head\n",
    "        counter = 0\n",
    "        sum = 0\n",
    "        \n",
    "        while current != None:\n",
    "            \n",
    "            if counter%2 != 0:\n",
    "                sum += current.value\n",
    "            \n",
    "            counter += 1\n",
    "            current = current.next\n",
    "        return sum\n",
    "    \n",
    "        \n",
    "        \n",
    "        "
   ]
  },
  {
   "cell_type": "code",
   "execution_count": 111,
   "id": "a5a15f0c",
   "metadata": {},
   "outputs": [],
   "source": [
    "l = LinkedList()"
   ]
  },
  {
   "cell_type": "code",
   "execution_count": 112,
   "id": "8e8341b4",
   "metadata": {},
   "outputs": [],
   "source": [
    "l.add(6)\n",
    "l.add(7)\n",
    "l.add(10)\n",
    "l.add(4)\n",
    "l.add(8)"
   ]
  },
  {
   "cell_type": "code",
   "execution_count": 116,
   "id": "b75b0bcc",
   "metadata": {},
   "outputs": [
    {
     "name": "stdout",
     "output_type": "stream",
     "text": [
      "6 -> 7 -> 11 -> 4 -> 8\n"
     ]
    }
   ],
   "source": [
    "print(l)"
   ]
  },
  {
   "cell_type": "code",
   "execution_count": 115,
   "id": "b2b84e3f",
   "metadata": {},
   "outputs": [
    {
     "data": {
      "text/plain": [
       "11"
      ]
     },
     "execution_count": 115,
     "metadata": {},
     "output_type": "execute_result"
    }
   ],
   "source": [
    "l.replace_max(11)"
   ]
  },
  {
   "cell_type": "code",
   "execution_count": 117,
   "id": "10e6c622",
   "metadata": {},
   "outputs": [
    {
     "data": {
      "text/plain": [
       "11"
      ]
     },
     "execution_count": 117,
     "metadata": {},
     "output_type": "execute_result"
    }
   ],
   "source": [
    "l.add_odd_node()"
   ]
  },
  {
   "cell_type": "code",
   "execution_count": null,
   "id": "92d03fdb",
   "metadata": {},
   "outputs": [],
   "source": []
  }
 ],
 "metadata": {
  "kernelspec": {
   "display_name": "Python 3 (ipykernel)",
   "language": "python",
   "name": "python3"
  },
  "language_info": {
   "codemirror_mode": {
    "name": "ipython",
    "version": 3
   },
   "file_extension": ".py",
   "mimetype": "text/x-python",
   "name": "python",
   "nbconvert_exporter": "python",
   "pygments_lexer": "ipython3",
   "version": "3.10.9"
  }
 },
 "nbformat": 4,
 "nbformat_minor": 5
}
