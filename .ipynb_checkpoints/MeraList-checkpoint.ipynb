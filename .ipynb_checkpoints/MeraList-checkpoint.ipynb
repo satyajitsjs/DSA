{
 "cells": [
  {
   "cell_type": "code",
   "execution_count": 5,
   "metadata": {},
   "outputs": [],
   "source": [
    "import ctypes"
   ]
  },
  {
   "cell_type": "code",
   "execution_count": 117,
   "metadata": {},
   "outputs": [],
   "source": [
    "class MeraList:\n",
    "    def __init__(self) :\n",
    "        self.size = 1\n",
    "        self.n = 0\n",
    "        #create a c type array with size = self.size\n",
    "        self.A = self.__make_array(self.size)\n",
    "\n",
    "    def __make_array(self,capasity):\n",
    "        # create a static array like c type array \n",
    "        return (capasity*ctypes.py_object)()\n",
    "    \n",
    "    def __len__(self):\n",
    "        return self.n\n",
    "    \n",
    "    def append(self,item):\n",
    "        if self.n == self.size:\n",
    "            self.__resize(self.size+10)\n",
    "        \n",
    "        self.A[self.n] = item\n",
    "        self.n += 1\n",
    "    \n",
    "    def __resize(self,size):\n",
    "        B = self.__make_array(size)\n",
    "        self.size = size\n",
    "        for i in range(self.n):\n",
    "            B[i] = self.A[i]\n",
    "        self.A = B\n",
    "    \n",
    "    def __str__(self):\n",
    "        if self.n == 0:\n",
    "            return f\"[]\"\n",
    "        result = \"\"\n",
    "        for i in range(self.n):\n",
    "            result += f\"{self.A[i]},\"\n",
    "        result = result[:-1]\n",
    "        return f\"[{result}]\"\n",
    "    \n",
    "    def __getitem__(self,index):\n",
    "        if 0 <= index < self.n:\n",
    "            return self.A[index]\n",
    "        return \"Index Error\"\n",
    "    \n",
    "    def pop(self,index=None):\n",
    "        if self.n == 0:\n",
    "            return \"empty list\"\n",
    "        if index != None:\n",
    "            print(self.A[index])\n",
    "            for i in range(index,self.n-1):\n",
    "                self.A[i] = self.A[i+1]\n",
    "            self.n -= 1\n",
    "            return\n",
    "\n",
    "        print(self.A[self.n-1])\n",
    "        self.n = self.n-1\n",
    "    \n",
    "    def clear(self):\n",
    "        self.size = 1\n",
    "        self.n = 0\n",
    "        print(\"[]\")\n",
    "    \n",
    "    def find(self,item):\n",
    "        for i in range(self.n):\n",
    "            if self.A[i] == item:\n",
    "                return i\n",
    "        return \"ValueError\"\n",
    "    \n",
    "    def insert(self,index,item):\n",
    "        if 0<= index < self.n:\n",
    "            if self.n == self.size:\n",
    "                self.__resize(self.size+10)\n",
    "            for i in range(self.n,index,-1):\n",
    "                self.A[i]=self.A[i-1]\n",
    "            self.A[index] = item\n",
    "            self.n += 1\n",
    "        else :\n",
    "            return \"Index Error\"\n",
    "    \n",
    "    def __delitem__(self,index):\n",
    "        if 0<= index < self.n:\n",
    "            for i in range(index,self.n-1):\n",
    "                self.A[i] = self.A[i+1]\n",
    "            self.n -= 1             \n",
    "    \n",
    "    def remove(self,item):\n",
    "        index = self.find(item)\n",
    "        if type(index) == int:\n",
    "            self.pop(index)\n",
    "        else:\n",
    "            return index\n",
    "        \n",
    "    \n"
   ]
  },
  {
   "cell_type": "code",
   "execution_count": 118,
   "metadata": {},
   "outputs": [
    {
     "name": "stdout",
     "output_type": "stream",
     "text": [
      "<class '__main__.MeraList'>\n"
     ]
    }
   ],
   "source": [
    "l = MeraList()\n",
    "print(type(l))"
   ]
  },
  {
   "cell_type": "code",
   "execution_count": 119,
   "metadata": {},
   "outputs": [],
   "source": [
    "l.append(\"Hello\")\n",
    "l.append(3.4)\n",
    "l.append(100)\n",
    "l.append(True)"
   ]
  },
  {
   "cell_type": "code",
   "execution_count": 124,
   "metadata": {},
   "outputs": [
    {
     "name": "stdout",
     "output_type": "stream",
     "text": [
      "[3.4,100]\n"
     ]
    }
   ],
   "source": [
    "print(l)"
   ]
  },
  {
   "cell_type": "code",
   "execution_count": 125,
   "metadata": {},
   "outputs": [
    {
     "data": {
      "text/plain": [
       "'Item Not Found'"
      ]
     },
     "execution_count": 125,
     "metadata": {},
     "output_type": "execute_result"
    }
   ],
   "source": [
    "l.remove(14)"
   ]
  },
  {
   "cell_type": "code",
   "execution_count": null,
   "metadata": {},
   "outputs": [],
   "source": []
  }
 ],
 "metadata": {
  "kernelspec": {
   "display_name": "Python 3 (ipykernel)",
   "language": "python",
   "name": "python3"
  },
  "language_info": {
   "codemirror_mode": {
    "name": "ipython",
    "version": 3
   },
   "file_extension": ".py",
   "mimetype": "text/x-python",
   "name": "python",
   "nbconvert_exporter": "python",
   "pygments_lexer": "ipython3",
   "version": "3.10.9"
  }
 },
 "nbformat": 4,
 "nbformat_minor": 2
}
