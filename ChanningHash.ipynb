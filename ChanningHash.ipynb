{
 "cells": [
  {
   "cell_type": "code",
   "execution_count": 36,
   "metadata": {},
   "outputs": [],
   "source": [
    "class Node:\n",
    "    def __init__(self,key,value):\n",
    "        self.key = key\n",
    "        self.value = value\n",
    "        self.next = None"
   ]
  },
  {
   "cell_type": "code",
   "execution_count": 37,
   "metadata": {},
   "outputs": [],
   "source": [
    "class LL:\n",
    "    def __init__(self):\n",
    "        self.head = None\n",
    "        self.n = 0\n",
    "        self.l = 0\n",
    "\n",
    "\n",
    "    def append(self,key,value):\n",
    "        new_node = Node(key,value)\n",
    "        \n",
    "        if self.head == None:\n",
    "            self.head = new_node\n",
    "            self.n += 1\n",
    "            return\n",
    "        \n",
    "        current = self.head\n",
    "        \n",
    "        while current.next != None:\n",
    "            current = current.next\n",
    "        \n",
    "        current.next = new_node\n",
    "        self.n+=1\n",
    "    \n",
    "\n",
    "    def delete_head(self):\n",
    "        if self.n == 0:\n",
    "            return \"List is already Empty\"\n",
    "        self.head = self.head.next\n",
    "        self.n -= 1\n",
    "    \n",
    "\n",
    "    def remove(self,key):\n",
    "        current = self.head\n",
    "        \n",
    "        if current == None:\n",
    "            return \"Empty List!!!!\"\n",
    "        \n",
    "        if current.key == key:\n",
    "            return self.delete_head()\n",
    "        \n",
    "        while current.next != None:\n",
    "            if current.next.key == key:\n",
    "                break\n",
    "            current = current.next\n",
    "        \n",
    "        if current.next == None:\n",
    "            return \"Item Not Found !!!!\"\n",
    "        else:\n",
    "            current.next = current.next.next\n",
    "            self.n -= 1\n",
    "    \n",
    "    def __str__(self):\n",
    "        current = self.head\n",
    "        data = \"\"\n",
    "        while current != None:\n",
    "            data += f\"{current.key} --> {current.value}  \"\n",
    "            current = current.next\n",
    "        return data\n",
    "    \n",
    "    def search(self,key):\n",
    "        current = self.head\n",
    "        pos = 0\n",
    "        \n",
    "        while current != None:\n",
    "            if current.key == key:\n",
    "                return pos\n",
    "            pos += 1\n",
    "            current = current.next\n",
    "        return -1\n",
    "    \n",
    "    def get_node_index(self,index):\n",
    "        current = self.head\n",
    "        counter = 0\n",
    "\n",
    "        while current is not None:\n",
    "            \n",
    "            if counter == index:\n",
    "                return current\n",
    "            \n",
    "            current = current.next\n",
    "            counter += 1\n",
    "            \n"
   ]
  },
  {
   "cell_type": "code",
   "execution_count": 38,
   "metadata": {},
   "outputs": [],
   "source": [
    "class Dictionary:\n",
    "    def __init__(self,capacity):\n",
    "        self.capacity = capacity\n",
    "        self.size = 0\n",
    "        # Create an array of ll  \n",
    "        self.buckets = self.make_array(capacity)\n",
    "    \n",
    "\n",
    "    def make_array(self,capacity):\n",
    "        L = ()\n",
    "        for i in range(capacity):\n",
    "            L.append(LL())\n",
    "        return L\n",
    "    \n",
    "\n",
    "    def put(self,key,value):\n",
    "        bucket_index = self.hash_function(key)\n",
    "        node_index = self.get_node_index(bucket_index,key)\n",
    "        if node_index == -1:\n",
    "            self.buckets[bucket_index].append(key,value)\n",
    "        else:\n",
    "            node = self.buckets[bucket_index].get_node_index(node_index)\n",
    "            node.value = value\n",
    "            \n",
    "    \n",
    "    def get_node_index(self,bucket_index,key):\n",
    "        node_index = self.buckets[bucket_index].search(key)\n",
    "        return node_index\n",
    "\n",
    "\n",
    "    def hash_function(self,key):\n",
    "        return abs(hash(key)) % self.capacity\n",
    "    \n",
    "\n",
    "    "
   ]
  },
  {
   "cell_type": "code",
   "execution_count": 39,
   "metadata": {},
   "outputs": [],
   "source": [
    "l = LL()"
   ]
  },
  {
   "cell_type": "code",
   "execution_count": 40,
   "metadata": {},
   "outputs": [],
   "source": [
    "l.append(2,5)\n",
    "l.append(4,7)\n",
    "l.append(6,8)\n"
   ]
  },
  {
   "cell_type": "code",
   "execution_count": 41,
   "metadata": {},
   "outputs": [
    {
     "name": "stdout",
     "output_type": "stream",
     "text": [
      "2 --> 5  4 --> 7  6 --> 8  \n"
     ]
    }
   ],
   "source": [
    "print(l)"
   ]
  },
  {
   "cell_type": "code",
   "execution_count": 42,
   "metadata": {},
   "outputs": [
    {
     "data": {
      "text/plain": [
       "6"
      ]
     },
     "execution_count": 42,
     "metadata": {},
     "output_type": "execute_result"
    }
   ],
   "source": [
    "l.get_node_index(2).key"
   ]
  }
 ],
 "metadata": {
  "kernelspec": {
   "display_name": "Python 3",
   "language": "python",
   "name": "python3"
  },
  "language_info": {
   "codemirror_mode": {
    "name": "ipython",
    "version": 3
   },
   "file_extension": ".py",
   "mimetype": "text/x-python",
   "name": "python",
   "nbconvert_exporter": "python",
   "pygments_lexer": "ipython3",
   "version": "3.10.12"
  }
 },
 "nbformat": 4,
 "nbformat_minor": 2
}
